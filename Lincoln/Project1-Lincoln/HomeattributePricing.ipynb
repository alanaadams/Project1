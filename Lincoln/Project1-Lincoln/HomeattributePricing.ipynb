{
 "cells": [
  {
   "cell_type": "markdown",
   "metadata": {},
   "source": [
    "# NY Housing prices and amenities Analysis\n",
    "\n",
    "*#\n",
    "Project Title: Which housing factor is most valuable to homebuyers in New York City?\n",
    "\n",
    "Team Members: Alana Adams, Maria Gutierrez Valencia, Lincoln Martin, Sharada Muthusubramanian\n",
    "\n",
    "Project Description/Outline: \n",
    "\n",
    "Research Questions to Answer: \n",
    "Hypothesis: Null (H0) hypothesis - number of bedrooms increases the price of the house will not be change \n",
    "Alternative HYpothesis (H1) - as the number of bedrooms increase the price of the house will have the tendency to increase.\n",
    "\n",
    "1. Does area of house or number of bedrooms matter more to homebuyers?\n",
    "2. Is a furnished home more preferred than an unfurnished home? \n",
    "3. Does the main road status matter to homebuyers?\n",
    "4. Does number of parking spaces have any correlation to housing price?\n",
    "5. Do New Yorkers prefer houses with basements over guestrooms?\n",
    "6. Can we predict housing price based on area of the house?\n",
    "7. Do the number of bathrooms correlate with the number of bedrooms?\n",
    "8. Do we see a relationship between price and number of stories in a house?\n",
    "9. Does the total number of rooms (bathroom, bedroom, guestroom, basement) increase home price more than total area?\n",
    "\n"
   ]
  },
  {
   "cell_type": "code",
   "execution_count": 1,
   "metadata": {},
   "outputs": [
    {
     "data": {
      "text/html": [
       "<div>\n",
       "<style scoped>\n",
       "    .dataframe tbody tr th:only-of-type {\n",
       "        vertical-align: middle;\n",
       "    }\n",
       "\n",
       "    .dataframe tbody tr th {\n",
       "        vertical-align: top;\n",
       "    }\n",
       "\n",
       "    .dataframe thead th {\n",
       "        text-align: right;\n",
       "    }\n",
       "</style>\n",
       "<table border=\"1\" class=\"dataframe\">\n",
       "  <thead>\n",
       "    <tr style=\"text-align: right;\">\n",
       "      <th></th>\n",
       "      <th>price</th>\n",
       "      <th>area</th>\n",
       "      <th>bedrooms</th>\n",
       "      <th>bathrooms</th>\n",
       "      <th>stories</th>\n",
       "      <th>mainroad</th>\n",
       "      <th>guestroom</th>\n",
       "      <th>basement</th>\n",
       "      <th>hotwaterheating</th>\n",
       "      <th>airconditioning</th>\n",
       "      <th>parking</th>\n",
       "      <th>prefarea</th>\n",
       "      <th>furnishingstatus</th>\n",
       "    </tr>\n",
       "  </thead>\n",
       "  <tbody>\n",
       "    <tr>\n",
       "      <th>0</th>\n",
       "      <td>13300000</td>\n",
       "      <td>7420</td>\n",
       "      <td>4</td>\n",
       "      <td>2</td>\n",
       "      <td>3</td>\n",
       "      <td>yes</td>\n",
       "      <td>no</td>\n",
       "      <td>no</td>\n",
       "      <td>no</td>\n",
       "      <td>yes</td>\n",
       "      <td>2</td>\n",
       "      <td>yes</td>\n",
       "      <td>furnished</td>\n",
       "    </tr>\n",
       "    <tr>\n",
       "      <th>1</th>\n",
       "      <td>12250000</td>\n",
       "      <td>8960</td>\n",
       "      <td>4</td>\n",
       "      <td>4</td>\n",
       "      <td>4</td>\n",
       "      <td>yes</td>\n",
       "      <td>no</td>\n",
       "      <td>no</td>\n",
       "      <td>no</td>\n",
       "      <td>yes</td>\n",
       "      <td>3</td>\n",
       "      <td>no</td>\n",
       "      <td>furnished</td>\n",
       "    </tr>\n",
       "    <tr>\n",
       "      <th>2</th>\n",
       "      <td>12250000</td>\n",
       "      <td>9960</td>\n",
       "      <td>3</td>\n",
       "      <td>2</td>\n",
       "      <td>2</td>\n",
       "      <td>yes</td>\n",
       "      <td>no</td>\n",
       "      <td>yes</td>\n",
       "      <td>no</td>\n",
       "      <td>no</td>\n",
       "      <td>2</td>\n",
       "      <td>yes</td>\n",
       "      <td>semi-furnished</td>\n",
       "    </tr>\n",
       "    <tr>\n",
       "      <th>3</th>\n",
       "      <td>12215000</td>\n",
       "      <td>7500</td>\n",
       "      <td>4</td>\n",
       "      <td>2</td>\n",
       "      <td>2</td>\n",
       "      <td>yes</td>\n",
       "      <td>no</td>\n",
       "      <td>yes</td>\n",
       "      <td>no</td>\n",
       "      <td>yes</td>\n",
       "      <td>3</td>\n",
       "      <td>yes</td>\n",
       "      <td>furnished</td>\n",
       "    </tr>\n",
       "    <tr>\n",
       "      <th>4</th>\n",
       "      <td>11410000</td>\n",
       "      <td>7420</td>\n",
       "      <td>4</td>\n",
       "      <td>1</td>\n",
       "      <td>2</td>\n",
       "      <td>yes</td>\n",
       "      <td>yes</td>\n",
       "      <td>yes</td>\n",
       "      <td>no</td>\n",
       "      <td>yes</td>\n",
       "      <td>2</td>\n",
       "      <td>no</td>\n",
       "      <td>furnished</td>\n",
       "    </tr>\n",
       "  </tbody>\n",
       "</table>\n",
       "</div>"
      ],
      "text/plain": [
       "      price  area  bedrooms  bathrooms  stories mainroad guestroom basement  \\\n",
       "0  13300000  7420         4          2        3      yes        no       no   \n",
       "1  12250000  8960         4          4        4      yes        no       no   \n",
       "2  12250000  9960         3          2        2      yes        no      yes   \n",
       "3  12215000  7500         4          2        2      yes        no      yes   \n",
       "4  11410000  7420         4          1        2      yes       yes      yes   \n",
       "\n",
       "  hotwaterheating airconditioning  parking prefarea furnishingstatus  \n",
       "0              no             yes        2      yes        furnished  \n",
       "1              no             yes        3       no        furnished  \n",
       "2              no              no        2      yes   semi-furnished  \n",
       "3              no             yes        3      yes        furnished  \n",
       "4              no             yes        2       no        furnished  "
      ]
     },
     "execution_count": 1,
     "metadata": {},
     "output_type": "execute_result"
    }
   ],
   "source": [
    "# Dependencies and Setup\n",
    "import matplotlib.pyplot as plt\n",
    "from pathlib import Path\n",
    "import pandas as pd\n",
    "import numpy as np\n",
    "import requests\n",
    "import time\n",
    "from datetime import datetime\n",
    "from scipy.stats import linregress\n",
    "import scipy.stats as st\n",
    "\n",
    "# File to Load (Remember to Change These)\n",
    "ny_housing = Path(\"Resources/Housing.csv\")\n",
    "ny_condo_zip = Path(\"Resources/Zip_Condo_NY.csv\")\n",
    "\n",
    "# Read School and Student Data File and store into Pandas DataFrames\n",
    "ny_housing_df = pd.read_csv(ny_housing)\n",
    "ny_condo_df = pd.read_csv(ny_condo_zip)\n",
    "ny_housing_df.head()\n",
    "#ny_condo_df.head()"
   ]
  },
  {
   "cell_type": "markdown",
   "metadata": {},
   "source": [
    "## 1. Does area of house or number of bedrooms matter more to homebuyers?"
   ]
  },
  {
   "cell_type": "code",
   "execution_count": 2,
   "metadata": {},
   "outputs": [],
   "source": [
    "#Copy the DF\n",
    "\n",
    "# Establish the bins \n",
    "area_bins = [0, 585, 630, 645, 680]\n",
    "ar_labels = [\"0-$585\", \"$585-630\", \"$630-645\", \"$645-680\"]"
   ]
  },
  {
   "cell_type": "code",
   "execution_count": 3,
   "metadata": {},
   "outputs": [
    {
     "ename": "NameError",
     "evalue": "name 'df' is not defined",
     "output_type": "error",
     "traceback": [
      "\u001b[0;31m---------------------------------------------------------------------------\u001b[0m",
      "\u001b[0;31mNameError\u001b[0m                                 Traceback (most recent call last)",
      "Cell \u001b[0;32mIn[3], line 2\u001b[0m\n\u001b[1;32m      1\u001b[0m \u001b[39m# Use `pd.cut` to categorize area of the house based on the bins.\u001b[39;00m\n\u001b[0;32m----> 2\u001b[0m df[\u001b[39m\"\u001b[39m\u001b[39marea\u001b[39m\u001b[39m\"\u001b[39m] \u001b[39m=\u001b[39m  pd\u001b[39m.\u001b[39mcut( df[\u001b[39m\"\u001b[39m\u001b[39marea\u001b[39m\u001b[39m\"\u001b[39m], area_bins,labels\u001b[39m=\u001b[39m ar_labels, include_lowest\u001b[39m=\u001b[39m\u001b[39mTrue\u001b[39;00m, ordered\u001b[39m=\u001b[39m\u001b[39mFalse\u001b[39;00m)\n\u001b[1;32m      3\u001b[0m df\n",
      "\u001b[0;31mNameError\u001b[0m: name 'df' is not defined"
     ]
    }
   ],
   "source": [
    "# Use `pd.cut` to categorize area of the house based on the bins.\n",
    "df[\"area\"] =  pd.cut( df[\"area\"], area_bins,labels= ar_labels, include_lowest=True, ordered=False)\n",
    "df"
   ]
  },
  {
   "cell_type": "code",
   "execution_count": null,
   "metadata": {},
   "outputs": [],
   "source": [
    "# Plot line graph to measure the preference of the home buyer area VS. home buyer\n"
   ]
  },
  {
   "cell_type": "markdown",
   "metadata": {},
   "source": [
    "## 2. Is a furnished home more preferred than an unfurnished home? "
   ]
  },
  {
   "cell_type": "code",
   "execution_count": null,
   "metadata": {},
   "outputs": [],
   "source": [
    "#Group the housing price by  furnishing status and get mean, median, mode, std deviation and variance by the furnishing status"
   ]
  },
  {
   "cell_type": "code",
   "execution_count": null,
   "metadata": {},
   "outputs": [],
   "source": [
    "# Generate a pie plot showing the distribution of furnishing status (using pyplot and Pandas)\n",
    "\n",
    "#save the plot as figure"
   ]
  },
  {
   "cell_type": "markdown",
   "metadata": {},
   "source": [
    "## 3. Does the main road status matter to homebuyers?"
   ]
  },
  {
   "cell_type": "code",
   "execution_count": 4,
   "metadata": {},
   "outputs": [
    {
     "name": "stderr",
     "output_type": "stream",
     "text": [
      "/var/folders/gx/3f_z0vjn37bd5y6ml4_x1nv40000gn/T/ipykernel_13170/328588103.py:2: FutureWarning: The default value of numeric_only in DataFrameGroupBy.mean is deprecated. In a future version, numeric_only will default to False. Either specify numeric_only or select only columns which should be valid for the function.\n",
      "  main_road_prices_df = ny_housing_df.groupby(\"mainroad\").mean()[\"price\"]\n"
     ]
    },
    {
     "data": {
      "text/plain": [
       "mainroad\n",
       "no     3.398905e+06\n",
       "yes    4.991777e+06\n",
       "Name: price, dtype: float64"
      ]
     },
     "execution_count": 4,
     "metadata": {},
     "output_type": "execute_result"
    }
   ],
   "source": [
    "#Group the housing price by Mainroad and get mean\n",
    "main_road_prices_df = ny_housing_df.groupby(\"mainroad\").mean()[\"price\"]\n",
    "main_road_prices_df\n"
   ]
  },
  {
   "cell_type": "code",
   "execution_count": 5,
   "metadata": {},
   "outputs": [
    {
     "name": "stderr",
     "output_type": "stream",
     "text": [
      "/var/folders/gx/3f_z0vjn37bd5y6ml4_x1nv40000gn/T/ipykernel_13170/2387964823.py:2: FutureWarning: The default value of numeric_only in DataFrameGroupBy.std is deprecated. In a future version, numeric_only will default to False. Either specify numeric_only or select only columns which should be valid for the function.\n",
      "  main_road_pie = ny_housing_df.groupby(\"mainroad\").std()[\"price\"]\n"
     ]
    },
    {
     "data": {
      "image/png": "[encoded data removed]",
      "text/plain": [
       "<Figure size 640x480 with 1 Axes>"
      ]
     },
     "metadata": {},
     "output_type": "display_data"
    }
   ],
   "source": [
    "# plot a pie chrt to show the preferance\n",
    "main_road_pie = ny_housing_df.groupby(\"mainroad\").std()[\"price\"]\n",
    "main_road_pie.plot.pie(autopct= \"%1.0f%%\")\n",
    "plt.title(\"Relationship of living near a Main Road in relation to Price\")\n",
    "plt.show()"
   ]
  },
  {
   "cell_type": "markdown",
   "metadata": {},
   "source": [
    "##  4. Does number of parking spaces have any correlation to housing price?"
   ]
  },
  {
   "cell_type": "code",
   "execution_count": 57,
   "metadata": {},
   "outputs": [
    {
     "name": "stdout",
     "output_type": "stream",
     "text": [
      "The correlation between parking spaces and the housing price is 0.38\n"
     ]
    }
   ],
   "source": [
    "#calculate the correlation coefficent parking spaces in realtion to housing price\n",
    "correlation = st.pearsonr(ny_housing_df[\"parking\"],ny_housing_df[\"price\"])\n",
    "# Print statement\n",
    "print(f\"The correlation between parking spaces and the housing price is {round(correlation[0],2)}\")\n",
    "\n",
    "# calculate slope, intercepts, pvalue, rvalue \n",
    "(slope, intercept, rvalue, pvalue, stderr) = st.linregress(ny_housing_df[\"parking\"], ny_housing_df[\"price\"])\n",
    "reg_values = ny_housing_df[\"parking\"] * slope + intercept\n",
    "line_eq = f\"y = {round(slope, 2)} x + {round(intercept, 2)}\""
   ]
  },
  {
   "cell_type": "code",
   "execution_count": 71,
   "metadata": {},
   "outputs": [
    {
     "data": {
      "image/png": "[encoded data removed]",
      "text/plain": [
       "<Figure size 640x480 with 1 Axes>"
      ]
     },
     "metadata": {},
     "output_type": "display_data"
    }
   ],
   "source": [
    "# Plot scatter plot and draw the linear regression\n",
    "#index = numpy.seachsorted(\"price\", \"parking\")\n",
    "plt.scatter(ny_housing_df[\"parking\"], ny_housing_df[\"price\"], color=\"blue\")\n",
    "plt.plot(ny_housing_df[\"parking\"], reg_values, color=\"red\")\n",
    "plt.title(\"Relationship Between Parking Spaces and Home Price\")\n",
    "y_axis_val = ny_housing_df[\"price\"]\n",
    "x_axis_val = ny_housing_df[\"parking\"]\n",
    "#ticks = range(len(\"price\"))\n",
    "#plt.xticks(ticks, labels=\"price\")\n",
    "plt.xlabel(\"parking\")\n",
    "plt.ylabel(\"price\")\n",
    "plt.show()"
   ]
  },
  {
   "cell_type": "markdown",
   "metadata": {},
   "source": [
    "## 5. Do New Yorkers pay more value with houses with basements over guestrooms?"
   ]
  },
  {
   "cell_type": "code",
   "execution_count": null,
   "metadata": {},
   "outputs": [],
   "source": [
    "#Calculate the number of houses with basement and with guestrooms and with both basement & guestrooms\n",
    "\n",
    "#Calculate the sum housing price with basement and with guestrooms and with both basement & guestrooms"
   ]
  },
  {
   "cell_type": "code",
   "execution_count": null,
   "metadata": {},
   "outputs": [],
   "source": [
    "#Calculate the average housing price for houses with basement and houses with guestrooms\n",
    "\n",
    "#plot a barchart"
   ]
  },
  {
   "cell_type": "markdown",
   "metadata": {},
   "source": [
    "## 6. Can we predict housing price based on area of the house?"
   ]
  },
  {
   "cell_type": "code",
   "execution_count": null,
   "metadata": {},
   "outputs": [],
   "source": [
    "#calculate the correlation coefficent area in realtion to housing price\n",
    "\n",
    "# calculate slope, intercepts, pvalue, rvalue the best fit line to calculate the housing price"
   ]
  },
  {
   "cell_type": "code",
   "execution_count": null,
   "metadata": {},
   "outputs": [],
   "source": [
    "#save the output to a csv file"
   ]
  },
  {
   "cell_type": "markdown",
   "metadata": {},
   "source": [
    "##  7. Do the number of bathrooms correlate with the number of bedrooms?"
   ]
  },
  {
   "cell_type": "code",
   "execution_count": null,
   "metadata": {},
   "outputs": [],
   "source": [
    "#calculate the correlation coefficent between bathrooms and number of bedrooms inrelation to pricing"
   ]
  },
  {
   "cell_type": "code",
   "execution_count": null,
   "metadata": {},
   "outputs": [],
   "source": []
  },
  {
   "cell_type": "markdown",
   "metadata": {},
   "source": [
    "##  8. Do we see a relationship between price and number of stories in a house?"
   ]
  },
  {
   "cell_type": "code",
   "execution_count": null,
   "metadata": {},
   "outputs": [],
   "source": [
    "#Scatter plot number of stories to price"
   ]
  },
  {
   "cell_type": "code",
   "execution_count": null,
   "metadata": {},
   "outputs": [],
   "source": []
  },
  {
   "cell_type": "markdown",
   "metadata": {},
   "source": [
    "##  9. Does the total number of rooms (bathroom, bedroom, guestroom, basement) increase home price more than total area?"
   ]
  },
  {
   "cell_type": "code",
   "execution_count": null,
   "metadata": {},
   "outputs": [],
   "source": [
    "# summerize the number of rooms and store it in a new column\n",
    "\n",
    "#compare average price per room and average price per sqrft"
   ]
  },
  {
   "cell_type": "code",
   "execution_count": null,
   "metadata": {},
   "outputs": [],
   "source": []
  },
  {
   "cell_type": "markdown",
   "metadata": {},
   "source": [
    "##  10. General Data Analysis of NY housing market"
   ]
  },
  {
   "cell_type": "code",
   "execution_count": null,
   "metadata": {},
   "outputs": [],
   "source": [
    "# create a dataframe of homes that are prices above a million doller \n",
    "\n",
    "#Generate a bar plot showing the million+ dollar homes"
   ]
  },
  {
   "cell_type": "code",
   "execution_count": null,
   "metadata": {},
   "outputs": [],
   "source": [
    "\n"
   ]
  }
 ],
 "metadata": {
  "anaconda-cloud": {},
  "kernel_info": {
   "name": "python3"
  },
  "kernelspec": {
   "display_name": "Python 3 (ipykernel)",
   "language": "python",
   "name": "python3"
  },
  "language_info": {
   "codemirror_mode": {
    "name": "ipython",
    "version": 3
   },
   "file_extension": ".py",
   "mimetype": "text/x-python",
   "name": "python",
   "nbconvert_exporter": "python",
   "pygments_lexer": "ipython3",
   "version": "3.10.10"
  },
  "latex_envs": {
   "LaTeX_envs_menu_present": true,
   "autoclose": false,
   "autocomplete": true,
   "bibliofile": "biblio.bib",
   "cite_by": "apalike",
   "current_citInitial": 1,
   "eqLabelWithNumbers": true,
   "eqNumInitial": 1,
   "hotkeys": {
    "equation": "Ctrl-E",
    "itemize": "Ctrl-I"
   },
   "labels_anchors": false,
   "latex_user_defs": false,
   "report_style_numbering": false,
   "user_envs_cfg": false
  },
  "nteract": {
   "version": "0.8.4"
  },
  "vscode": {
   "interpreter": {
    "hash": "5384d77d82de63fd599f73e77f9ec786e7719288bf80a29ec0288c670ac3cf32"
   }
  }
 },
 "nbformat": 4,
 "nbformat_minor": 4
}
