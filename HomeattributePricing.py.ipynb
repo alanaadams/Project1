{
 "cells": [
  {
   "cell_type": "markdown",
   "metadata": {},
   "source": [
    "# NY Housing prices and amenities Analysis\n",
    "\n",
    "*#\n",
    "Project Title: Which housing factor is most valuable to homebuyers in New York City?\n",
    "\n",
    "Team Members: Alana Adams, Maria Gutierrez Valencia, Lincoln Martin, Sharada Muthusubramanian\n",
    "\n",
    "Project Description/Outline: \n",
    "\n",
    "Research Questions to Answer: \n",
    "Hypothesis: More bedrooms drive higher prices than any other home feature.\n",
    "1. Does area of house or number of bedrooms matter more to homebuyers?\n",
    "2. Is a furnished home more preferred than an unfurnished home? \n",
    "3. Does the main road status matter to homebuyers?\n",
    "4. Does number of parking spaces have any correlation to housing price?\n",
    "5. Do New Yorkers prefer houses with basements over guestrooms?\n",
    "6. Can we predict housing price based on area and bedroom size?\n",
    "7. Do the number of bathrooms correlate with the number of bedrooms?\n",
    "8. Do we see a relationship between stories and number of stories in a house?\n",
    "9. Does the total number of rooms (bathroom, bedroom, guestroom, basement) increase home price more than total area?\n",
    "\n"
   ]
  },
  {
   "cell_type": "code",
   "execution_count": null,
   "metadata": {},
   "outputs": [],
   "source": [
    "# Dependencies and Setup\n",
    "import matplotlib.pyplot as plt\n",
    "from pathlib import Path\n",
    "import pandas as pd\n",
    "import numpy as np\n",
    "import requests\n",
    "import time\n",
    "from datetime import datetime\n",
    "from scipy.stats import linregress\n",
    "import scipy.stats as st\n",
    "\n",
    "# File to Load (Remember to Change These)\n",
    "ny_housing = Path(\"Resources/Housing.csv\")\n",
    "ny_condo_zip = Path(\"Resources/Zip_Condo_NY.csv\")\n",
    "\n",
    "# Read School and Student Data File and store into Pandas DataFrames\n",
    "ny_housing_df = pd.read_csv(ny_housing)\n",
    "ny_condo_df = pd.read_csv(ny_condo_zip)\n",
    "ny_housing_df.head()\n",
    "#ny_condo_df.head()"
   ]
  },
  {
   "cell_type": "markdown",
   "metadata": {},
   "source": [
    "## Does area of house or number of bedrooms matter more to homebuyers?"
   ]
  },
  {
   "cell_type": "code",
   "execution_count": null,
   "metadata": {},
   "outputs": [],
   "source": [
    "#Copy the DF\n",
    "\n",
    "# Establish the bins \n",
    "area_bins = [0, 585, 630, 645, 680]\n",
    "ar_labels = [\"0-$585\", \"$585-630\", \"$630-645\", \"$645-680\"]"
   ]
  },
  {
   "cell_type": "code",
   "execution_count": null,
   "metadata": {},
   "outputs": [],
   "source": [
    "# Use `pd.cut` to categorize area of the house based on the bins.\n",
    "df[\"area\"] =  pd.cut( df[\"area\"], area_bins,labels= ar_labels, include_lowest=True, ordered=False)\n",
    "df"
   ]
  },
  {
   "cell_type": "code",
   "execution_count": null,
   "metadata": {},
   "outputs": [],
   "source": [
    "# Plot line graph to measure the preference of the home buyer area VS. home buyer\n"
   ]
  },
  {
   "cell_type": "markdown",
   "metadata": {},
   "source": [
    "## Is a furnished home more preferred than an unfurnished home? "
   ]
  },
  {
   "cell_type": "code",
   "execution_count": null,
   "metadata": {},
   "outputs": [],
   "source": [
    "#Group the housing price by  furnishing status and get mean, median, mode, std deviation and variance by the furnishing status"
   ]
  },
  {
   "cell_type": "code",
   "execution_count": null,
   "metadata": {},
   "outputs": [],
   "source": [
    "# Generate a pie plot showing the distribution of furnishing status (using pyplot and Pandas)\n",
    "\n",
    "#save the plot as figure"
   ]
  },
  {
   "cell_type": "markdown",
   "metadata": {},
   "source": [
    "## Does the main road status matter to homebuyers?"
   ]
  },
  {
   "cell_type": "code",
   "execution_count": null,
   "metadata": {},
   "outputs": [],
   "source": [
    "#Group the housing price by Mainroad and get mean"
   ]
  },
  {
   "cell_type": "code",
   "execution_count": null,
   "metadata": {},
   "outputs": [],
   "source": [
    "# plot a pie chrt to show the preferance"
   ]
  },
  {
   "cell_type": "markdown",
   "metadata": {},
   "source": [
    "##  Does number of parking spaces have any correlation to housing price?"
   ]
  },
  {
   "cell_type": "code",
   "execution_count": null,
   "metadata": {},
   "outputs": [],
   "source": [
    "#calculate the correlation coefficent parking spaces in realtion to housing price\n",
    "\n",
    "# calculate slope, intercepts, pvalue, rvalue \n"
   ]
  },
  {
   "cell_type": "code",
   "execution_count": null,
   "metadata": {},
   "outputs": [],
   "source": [
    "# Plot scatter plot and draw the linear regression"
   ]
  },
  {
   "cell_type": "markdown",
   "metadata": {},
   "source": [
    "## Do New Yorkers pay more value with houses with basements over guestrooms?"
   ]
  },
  {
   "cell_type": "code",
   "execution_count": null,
   "metadata": {},
   "outputs": [],
   "source": [
    "#Calculate the number of houses with basement and with guestrooms and with both basement & guestrooms\n",
    "\n",
    "#Calculate the sum housing price with basement and with guestrooms and with both basement & guestrooms"
   ]
  },
  {
   "cell_type": "code",
   "execution_count": null,
   "metadata": {},
   "outputs": [],
   "source": [
    "#Calculate the average housing price for houses with basement and houses with guestrooms\n",
    "\n",
    "#plot a barchart"
   ]
  },
  {
   "cell_type": "markdown",
   "metadata": {},
   "source": [
    "## Can we predict housing price based on area of the house?"
   ]
  },
  {
   "cell_type": "code",
   "execution_count": null,
   "metadata": {},
   "outputs": [],
   "source": [
    "#calculate the correlation coefficent area in realtion to housing price\n",
    "\n",
    "# calculate slope, intercepts, pvalue, rvalue the best fit line to calculate the housing price"
   ]
  },
  {
   "cell_type": "code",
   "execution_count": null,
   "metadata": {},
   "outputs": [],
   "source": [
    "#save the output to a csv file"
   ]
  },
  {
   "cell_type": "markdown",
   "metadata": {},
   "source": [
    "##  Do the number of bathrooms correlate with the number of bedrooms?"
   ]
  },
  {
   "cell_type": "code",
   "execution_count": null,
   "metadata": {},
   "outputs": [],
   "source": [
    "#calculate the correlation coefficent between bathrooms and number of bedrooms inrelation to pricing"
   ]
  },
  {
   "cell_type": "code",
   "execution_count": null,
   "metadata": {},
   "outputs": [],
   "source": []
  },
  {
   "cell_type": "markdown",
   "metadata": {},
   "source": [
    "##  Do we see a relationship between price and number of stories in a house?"
   ]
  },
  {
   "cell_type": "code",
   "execution_count": null,
   "metadata": {},
   "outputs": [],
   "source": [
    "#Scatter plot number of stories to price"
   ]
  },
  {
   "cell_type": "code",
   "execution_count": null,
   "metadata": {},
   "outputs": [],
   "source": []
  },
  {
   "cell_type": "markdown",
   "metadata": {},
   "source": [
    "##  Does the total number of rooms (bathroom, bedroom, guestroom, basement) increase home price more than total area?"
   ]
  },
  {
   "cell_type": "code",
   "execution_count": null,
   "metadata": {},
   "outputs": [],
   "source": [
    "# summerize the number of rooms and store it in a new column\n",
    "\n",
    "#compare average price per room and average price per sqrft"
   ]
  },
  {
   "cell_type": "code",
   "execution_count": null,
   "metadata": {},
   "outputs": [],
   "source": []
  },
  {
   "cell_type": "markdown",
   "metadata": {},
   "source": [
    "##  General Data Analysis of NY housing market"
   ]
  },
  {
   "cell_type": "code",
   "execution_count": null,
   "metadata": {},
   "outputs": [],
   "source": [
    "# create a dataframe of homes that are prices above a million doller \n",
    "\n",
    "#Generate a bar plot showing the million+ dollar homes"
   ]
  },
  {
   "cell_type": "code",
   "execution_count": null,
   "metadata": {},
   "outputs": [],
   "source": [
    "\n"
   ]
  }
 ],
 "metadata": {
  "anaconda-cloud": {},
  "kernel_info": {
   "name": "python3"
  },
  "kernelspec": {
   "display_name": "Python 3 (ipykernel)",
   "language": "python",
   "name": "python3"
  },
  "language_info": {
   "codemirror_mode": {
    "name": "ipython",
    "version": 3
   },
   "file_extension": ".py",
   "mimetype": "text/x-python",
   "name": "python",
   "nbconvert_exporter": "python",
   "pygments_lexer": "ipython3",
   "version": "3.9.16"
  },
  "latex_envs": {
   "LaTeX_envs_menu_present": true,
   "autoclose": false,
   "autocomplete": true,
   "bibliofile": "biblio.bib",
   "cite_by": "apalike",
   "current_citInitial": 1,
   "eqLabelWithNumbers": true,
   "eqNumInitial": 1,
   "hotkeys": {
    "equation": "Ctrl-E",
    "itemize": "Ctrl-I"
   },
   "labels_anchors": false,
   "latex_user_defs": false,
   "report_style_numbering": false,
   "user_envs_cfg": false
  },
  "nteract": {
   "version": "0.8.4"
  },
  "vscode": {
   "interpreter": {
    "hash": "5384d77d82de63fd599f73e77f9ec786e7719288bf80a29ec0288c670ac3cf32"
   }
  }
 },
 "nbformat": 4,
 "nbformat_minor": 4
}
